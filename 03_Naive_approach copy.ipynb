{
 "cells": [
  {
   "attachments": {},
   "cell_type": "markdown",
   "metadata": {},
   "source": [
    "Solving the Traveling Salesman Problem with QAOA"
   ]
  },
  {
   "cell_type": "code",
   "execution_count": 4,
   "metadata": {},
   "outputs": [],
   "source": [
    "import numpy as np\n",
    "%matplotlib inline\n",
    "\n",
    "def points_order_to_binary_state(points_order):\n",
    "    \"\"\"\n",
    "    Transforms the order of points from the standard representation: [0, 1, 2],\n",
    "    to the binary one: [1,0,0,0,1,0,0,0,1]\n",
    "    \"\"\"\n",
    "    number_of_points = len(points_order)\n",
    "    binary_state = np.zeros((len(points_order))**2)\n",
    "    for j in range(len(points_order)):\n",
    "        p = points_order[j]\n",
    "        binary_state[(number_of_points) * (j) + (p)] = 1\n",
    "    return binary_state\n",
    "\n",
    "def binary_state_to_points_order(binary_state):\n",
    "    \"\"\"\n",
    "    Transforms the the order of points from the binary representation: [1,0,0,0,1,0,0,0,1],\n",
    "    to the binary one: [0, 1, 2]\n",
    "    \"\"\"\n",
    "    points_order = []\n",
    "    number_of_points = int(np.sqrt(len(binary_state)))\n",
    "    for p in range(number_of_points):\n",
    "        for j in range(number_of_points):\n",
    "            if binary_state[(number_of_points) * p + j] == 1:\n",
    "                points_order.append(j)\n",
    "    return points_order"
   ]
  },
  {
   "cell_type": "code",
   "execution_count": 6,
   "metadata": {},
   "outputs": [
    {
     "name": "stdout",
     "output_type": "stream",
     "text": [
      "[[0. 4. 5.]\n",
      " [4. 0. 3.]\n",
      " [5. 3. 0.]]\n"
     ]
    }
   ],
   "source": [
    "import utilities\n",
    "cities = np.array([[0, 4],[0, 0],[3, 0]])\n",
    "distance_matrix = utilities.get_distance_matrix(cities)\n",
    "print(distance_matrix)\n",
    "number_of_cities = len(cities)"
   ]
  },
  {
   "cell_type": "code",
   "execution_count": 7,
   "metadata": {},
   "outputs": [],
   "source": [
    "from qiskit import QuantumCircuit, ClassicalRegister, QuantumRegister\n",
    "from qiskit import Aer, execute\n",
    "from qiskit.circuit import Parameter\n",
    "\n",
    "def create_qc_mix(nqubits, beta):\n",
    "    nqubits = len(cities)**2\n",
    "    qc_mix = QuantumCircuit(nqubits)\n",
    "    for i in range(0, nqubits):\n",
    "        qc_mix.rx(-1 * 2 * beta, i)\n",
    "    return qc_mix\n",
    "\n",
    "def create_qc_0(nqubits):\n",
    "    qc_0 = QuantumCircuit(nqubits)\n",
    "    for i in range(0, nqubits):\n",
    "        qc_0.h(i)\n",
    "    return qc_0\n",
    "\n",
    "def create_qc_p(nqubits, gamma):\n",
    "    number_of_cities = len(cities)\n",
    "    qc_p = QuantumCircuit(nqubits)\n",
    "    for i in range(number_of_cities):\n",
    "        for j in range(i, number_of_cities):\n",
    "            for t in range(number_of_cities - 1):\n",
    "                if distance_matrix[i][j] != 0:\n",
    "                    weight = distance_matrix[i][j]/2\n",
    "                    qubit_1 = t * number_of_cities + i\n",
    "                    qubit_2 = (t + 1) * number_of_cities + j\n",
    "                    qc_p.rzz(2*gamma*weight, qubit_1, qubit_2)\n",
    "    return qc_p"
   ]
  },
  {
   "cell_type": "code",
   "execution_count": 8,
   "metadata": {},
   "outputs": [],
   "source": [
    "from qiskit.quantum_info import SparsePauliOp\n",
    "from qiskit.quantum_info.operators import Operator\n",
    "from scipy import linalg\n",
    "\n",
    "def create_qaoa_circuit(nqubits, theta):\n",
    "    qc_qaoa = QuantumCircuit(nqubits)\n",
    "    beta = theta[0]\n",
    "    gamma = theta[1]\n",
    "    \n",
    "    nqubits = len(cities)**2\n",
    "    for i in range(0, nqubits):\n",
    "        qc_qaoa.rx(-1 * 2 * beta, i)\n",
    "\n",
    "    for i in range(0, nqubits):\n",
    "        qc_qaoa.h(i)\n",
    "\n",
    "    number_of_cities = len(cities)\n",
    "    for i in range(number_of_cities):\n",
    "        for j in range(i, number_of_cities):\n",
    "            for t in range(number_of_cities - 1):\n",
    "                if distance_matrix[i][j] != 0:\n",
    "                    weight = distance_matrix[i][j]/2\n",
    "                    qubit_1 = t * number_of_cities + i\n",
    "                    qubit_2 = (t + 1) * number_of_cities + j\n",
    "                    qc_qaoa.rzz(2*gamma*weight, qubit_1, qubit_2)\n",
    "    \n",
    "    weight = -100 * np.max(distance_matrix)\n",
    "    weight_op2 = weight/8.0\n",
    "\n",
    "    #bilocation\n",
    "    number_of_nodes = len(distance_matrix[0])\n",
    "    for t in range(number_of_nodes):\n",
    "        range_of_qubits = list(range(t * number_of_nodes, (t + 1) * number_of_nodes))\n",
    "        op = Operator(linalg.expm(-(1j)*2*gamma*(np.diag([1,0,0,1,0,1,1,1])*weight)))\n",
    "        qc_qaoa.append(op, range_of_qubits)\n",
    "        \n",
    "    #repetition\n",
    "    for i in range(number_of_nodes):\n",
    "        range_of_qubits = list(range(i, number_of_nodes**2, number_of_nodes))\n",
    "        op = Operator(linalg.expm(-(1j)*2*gamma*(np.diag([1,0,0,1,0,1,1,1])*weight)))\n",
    "        qc_qaoa.append(op, range_of_qubits)\n",
    "\n",
    "    qc_qaoa.measure_all()\n",
    "    \n",
    "    return qc_qaoa"
   ]
  },
  {
   "cell_type": "code",
   "execution_count": 9,
   "metadata": {},
   "outputs": [],
   "source": [
    "def compute_expectation(counts, distance_matrix):\n",
    "    avg = 0\n",
    "    sum_count = 0\n",
    "    counts_list = [(k, v) for k, v in counts.items()]\n",
    "    counts_list = [(binary_state_to_points_order([int(i) for i in x[0]]), x[1]) for x in counts_list]\n",
    "    for item in counts_list:\n",
    "        bitstring = item[0]\n",
    "        count = item[1]\n",
    "        path = binary_state_to_points_order(bitstring)\n",
    "        total = 0\n",
    "        for i in range(len(path) - 1):\n",
    "            total += distance_matrix[path[i]][path[i+1]]\n",
    "        avg += total * int(count)\n",
    "        sum_count += int(count)\n",
    "    return avg/sum_count\n",
    "\n",
    "def get_expectation(distance_matrix, shots=512):\n",
    "    backend = Aer.get_backend('qasm_simulator')\n",
    "    backend.shots = shots\n",
    "    \n",
    "    def execute_circ(theta):\n",
    "        qc = create_qaoa_circuit(len(distance_matrix[0])**2, theta)\n",
    "        counts = backend.run(qc, seed_simulator=10, \n",
    "                             nshots=512).result().get_counts()\n",
    "        \n",
    "        return compute_expectation(counts, distance_matrix)\n",
    "    \n",
    "    return execute_circ\n"
   ]
  },
  {
   "cell_type": "code",
   "execution_count": 10,
   "metadata": {},
   "outputs": [
    {
     "data": {
      "text/plain": [
       "     fun: 0.58984375\n",
       "   maxcv: 0.0\n",
       " message: 'Optimization terminated successfully.'\n",
       "    nfev: 13\n",
       "  status: 1\n",
       " success: True\n",
       "       x: array([1., 1.])"
      ]
     },
     "execution_count": 10,
     "metadata": {},
     "output_type": "execute_result"
    }
   ],
   "source": [
    "from scipy.optimize import minimize\n",
    "\n",
    "expectation = get_expectation(distance_matrix)\n",
    "\n",
    "res = minimize(expectation, \n",
    "                      [1.0, 1.0], \n",
    "                      method='COBYLA')\n",
    "res"
   ]
  },
  {
   "cell_type": "code",
   "execution_count": 11,
   "metadata": {},
   "outputs": [
    {
     "name": "stdout",
     "output_type": "stream",
     "text": [
      "[([1, 2], 1), ([0, 0, 2], 1), ([1, 2, 0, 1, 2], 1), ([1, 2, 1, 2, 1], 1), ([0, 2, 1], 1), ([1, 2, 1, 0, 1, 2], 1), ([0, 2, 0, 1, 0], 1), ([0, 2, 0, 1, 0, 1], 1), ([1, 0, 2, 0, 2], 1), ([0, 2, 0], 1), ([2, 2], 1), ([0, 1, 2, 0], 1), ([0, 1, 1], 1), ([0, 1, 0, 2, 2], 1), ([0, 1, 2, 1], 1), ([0, 0, 0], 1), ([0, 2, 1, 1, 2], 1), ([1, 2, 0, 1], 1), ([0, 0, 2, 0], 1), ([2, 0], 1), ([1, 2, 0], 1), ([0, 2, 2], 1), ([1, 0, 2, 0], 1), ([2, 1, 2, 1, 2], 1), ([1, 1, 2], 1), ([0, 2, 0, 1, 2, 0, 1], 1), ([1, 2, 1, 2], 1), ([0, 2, 0, 2], 1), ([0, 1, 2, 0, 1], 1), ([0, 1, 2, 2], 1), ([1, 1, 0, 2], 1), ([0, 0, 1], 1), ([1, 1, 2, 0, 1], 1), ([0, 0], 1), ([0, 1, 2], 1), ([0], 1), ([0, 1, 2, 0, 2], 1), ([0, 1, 0, 1, 2], 1), ([2, 0, 1, 2, 0], 1), ([1, 2, 2, 1], 1), ([0, 1, 1, 0, 1, 2], 1), ([1, 2, 0, 2, 1, 2], 1), ([1, 2, 0, 2, 0], 1), ([0, 1, 2, 0], 1), ([2, 0, 2, 1], 1), ([2, 1], 1), ([1, 2, 0, 1], 1), ([0, 1, 2], 1), ([0, 1, 2, 1, 2], 1), ([1, 2, 1, 1, 2], 1), ([1, 1, 2, 1], 1), ([1, 2, 0, 2, 0, 2], 1), ([0, 1, 2, 0, 2, 0, 1], 1), ([1, 2, 1], 1), ([0, 2, 0, 1, 2], 1), ([1, 2, 0, 1, 2], 1), ([0, 1, 0, 1, 2], 1), ([2, 0, 1, 0], 1), ([0, 2, 0, 2, 0, 1], 1), ([2, 0, 1], 1), ([0, 2, 0, 0], 1), ([0, 1, 2, 0, 1, 1, 2], 1), ([2, 1], 1), ([2, 0], 1), ([0, 1, 2, 0], 1), ([0, 1, 2], 1), ([1, 0, 1], 1), ([1, 0, 2], 1), ([0, 2, 1], 1), ([0, 1, 2, 1, 2], 1), ([0, 2, 1, 2, 2], 1), ([0, 2, 0, 1, 2, 0], 1), ([1, 0, 1, 0, 2], 1), ([2, 0, 2, 2], 1), ([1, 2, 0, 1, 2, 0, 2], 1), ([0, 1, 1, 2, 0, 2], 1), ([0, 2, 2], 1), ([0, 0, 1, 2, 0, 2], 1), ([0, 2, 1, 2], 1), ([2, 2, 0, 2], 1), ([2, 0, 2, 0, 1], 1), ([2, 2, 1], 1), ([1, 0, 1, 0, 1], 1), ([1, 0, 0, 1], 1), ([1, 2, 2], 1), ([1, 0, 1], 1), ([0, 1, 2, 1, 2, 1], 1), ([0, 1, 1, 1, 2], 1), ([0, 1, 2, 0, 1, 2, 0], 1), ([2, 2, 0, 1], 1), ([2, 1, 2, 2], 1), ([0, 1, 2], 1), ([2, 0, 0], 1), ([1, 0, 1, 2], 1), ([0, 1, 2, 0, 1, 2, 0, 1, 2], 1), ([0, 2, 0, 1, 2, 1, 2], 1), ([1, 2, 1, 2], 1), ([0, 0, 0, 1, 2], 1), ([0, 0, 2, 0, 1], 1), ([2, 0, 1, 2], 1), ([2], 1), ([0, 1, 2, 0, 1], 1), ([0, 1, 2, 0, 1, 0, 1], 1), ([0, 0, 1, 2, 1], 1), ([0, 1, 0], 1), ([2, 1, 2], 1), ([1, 2, 0], 1), ([1, 2, 2, 0, 1, 2], 1), ([1, 2, 0, 2, 1], 1), ([1, 0, 1, 2, 0, 2], 1), ([2, 0, 1, 2], 1), ([0, 2, 2, 0], 1), ([0, 2, 1, 0, 1, 2], 1), ([1, 0, 1, 2, 0, 1], 1), ([1, 2, 0, 2], 1), ([2, 0, 1], 1), ([0, 1, 2, 0, 2], 1), ([0, 2], 1), ([0, 1, 2, 2], 1), ([0, 2, 0, 2, 1, 2], 1), ([1, 2, 0, 1, 2], 1), ([0, 1, 1, 0, 2], 1), ([2, 2, 1, 2], 1), ([1, 2, 2], 1), ([0, 1, 2, 0, 2, 0, 1, 2], 1), ([0, 2], 1), ([0, 2, 0, 1, 0, 2], 1), ([0, 1, 2, 0, 1, 2], 1), ([0, 0, 0, 2], 1), ([1, 2, 2, 2], 1), ([0, 2, 0, 1, 0, 1, 2], 1), ([2, 2], 1), ([0, 2, 0, 1], 1), ([0, 0, 1, 0, 2], 1), ([0, 2], 1), ([1, 2, 0, 2, 2], 1), ([2, 2], 1), ([2, 0, 1, 2, 2], 1), ([0, 0, 1], 1), ([1], 1), ([0, 1, 0], 1), ([1, 0, 2], 1), ([2, 0, 2, 0], 1), ([0, 1, 2, 0, 1, 0, 1, 2], 1), ([1, 2, 1], 1), ([2, 0, 1, 2, 0, 1], 1), ([0, 2], 1), ([2, 1, 2, 0], 1), ([1, 2, 0, 1, 1, 2], 1), ([1, 1, 2, 0], 1), ([1, 2, 0, 1, 2], 1), ([1, 2, 2, 1, 2], 1), ([0, 1, 2, 0, 1], 1), ([0, 0, 1, 2], 1), ([0, 1, 0, 1, 0, 1], 1), ([0, 1, 2], 1), ([0, 2, 0, 1], 1), ([1, 2, 1, 0, 2], 1), ([0, 1, 0, 1, 2, 0, 1], 1), ([0, 1, 2, 0, 1, 2], 2), ([1, 0, 2, 1, 2], 2), ([1, 1, 2, 0, 1, 2], 2), ([1, 0, 1, 2, 0], 2), ([0, 1, 1, 2], 2), ([1], 2), ([0, 1, 2, 1, 2], 2), ([1, 0, 1, 1], 2), ([1, 1, 2], 2), ([1, 0, 1, 2], 2), ([1, 2, 1, 2], 2), ([0, 1, 1, 0], 2), ([0, 1, 2, 2, 0], 2), ([0, 1, 0, 0], 2), ([0, 2, 0, 0, 1], 2), ([0, 1, 2, 1, 0], 2), ([2, 0, 0, 2], 2), ([0, 1, 2, 1, 2], 2), ([1, 0, 1, 2, 1], 2), ([2, 0, 1], 2), ([0, 2, 0, 2, 0, 2], 2), ([1, 2, 0, 1, 0], 2), ([1, 2, 0, 2], 2), ([0, 1, 2, 0, 1, 2, 0, 2], 2), ([0, 1, 0, 2, 1, 2], 2), ([2, 2, 0], 2), ([0, 1, 2, 0, 0, 2], 2), ([0, 2, 0, 1, 1, 2], 2), ([0, 1], 2), ([0, 1, 2, 0, 1, 2, 0, 1], 2), ([0, 1, 2, 1, 2], 2), ([2, 0, 2], 2), ([0, 2, 2, 0, 2], 2), ([2, 0, 2, 1, 2], 2), ([0, 0, 1, 2], 2), ([1, 0, 0], 2), ([1, 2, 0, 0, 1, 2], 2), ([0, 2, 0, 1], 2), ([0, 1, 2, 2, 0, 1, 2], 2), ([0, 1, 0, 2], 2), ([0, 1, 0, 1, 2], 2), ([2, 0, 1, 0, 1], 2), ([1, 2, 0, 2], 2), ([0, 2, 1], 2), ([0, 1, 0, 2], 2), ([2, 2, 2], 2), ([0, 2, 1, 2], 2), ([0, 1, 0, 0, 1, 2], 2), ([0, 0, 1, 2, 0, 1, 2], 2), ([1, 2, 0, 1, 2, 0, 1, 2], 2), ([1, 2, 0, 1], 2), ([1, 1, 2, 1, 2], 2), ([0], 2), ([0, 2, 1, 2, 0, 1, 2], 2), ([0, 2, 0, 2, 1], 2), ([0, 2, 0, 1, 2], 2), ([0, 2, 0, 1, 2, 2], 2), ([2, 0, 1, 0, 2], 2), ([0, 1, 1, 2], 2), ([0, 1, 0, 1, 2], 2), ([1, 2, 0, 1, 1], 2), ([1, 2], 2), ([0, 2, 0, 1, 2, 1], 2), ([0, 1, 2, 2, 1, 2], 2), ([2, 0, 1, 2, 0, 2], 2), ([0, 1, 2, 0, 1, 2], 2), ([1, 1, 0], 2), ([1, 2, 1, 2], 2), ([1, 0, 1], 2), ([0, 1], 2), ([0, 2, 1, 2, 1, 2], 2), ([0, 1, 2, 0, 2, 0, 2], 2), ([1, 2, 0, 1], 2), ([0, 1, 2, 1, 2, 0], 2), ([0, 0, 2], 2), ([0, 1, 2, 2], 2), ([2, 1, 0], 2), ([2, 0, 1, 1], 2), ([0, 2, 1, 0, 1], 2), ([0, 1, 0, 1, 2, 1], 2), ([0], 2), ([0, 0, 1, 2, 0], 2), ([0, 1, 0, 1, 2, 0, 1, 2], 2), ([1, 2, 0, 1, 2, 1, 2], 2), ([0, 1, 2], 2), ([1, 0, 1, 2, 0, 1, 2], 2), ([0, 1, 2, 1, 2, 0, 2], 2), ([2], 2), ([0, 0], 2), ([2, 1, 2], 2), ([0, 2, 0, 2], 2), ([0, 1, 0, 2, 1], 2), ([0, 1, 1, 2, 0], 2), ([1, 2, 0, 1, 2], 2), ([0, 1, 2, 1], 2), ([0, 1, 2, 1, 2, 0, 1, 2], 2), ([0, 0, 2, 0, 2], 2), ([0, 1, 0, 2, 0, 1, 2], 2), ([0, 1, 2, 1, 1], 2), ([1, 2, 0, 1, 0, 1], 2), ([0, 1, 0, 0, 1], 2), ([0, 1], 2), ([1, 2, 1, 2, 2], 2), ([1, 1], 2), ([0, 1, 2, 0, 1, 2, 2], 2), ([0, 1, 2], 2), ([0, 1, 2, 0, 0, 1], 2), ([2, 1], 2), ([0, 1, 0, 2, 0, 2], 2), ([0, 1, 2, 2, 0, 2], 2), ([0, 1, 2, 1], 2), ([0, 1, 2, 1, 2, 1, 2], 2), ([2, 1, 2, 1], 2), ([2, 1, 0, 2], 2), ([0, 2, 1, 2], 2), ([0, 1, 2], 2), ([2, 0, 2, 0, 2], 2), ([0, 1, 2, 1, 2, 0, 1], 2), ([1], 2), ([0, 2, 0, 1, 2, 0, 1, 2], 2), ([1, 2], 2), ([0, 1, 0, 2], 2), ([1, 2, 1, 0, 1], 2), ([0, 0], 2), ([1, 0, 1, 2], 2), ([2, 0, 2], 2), ([0, 1, 1], 3), ([0, 1, 2, 0], 3), ([0, 0, 1, 2], 3), ([0, 1, 1, 2], 3), ([0, 1, 2, 0, 2, 2], 3), ([0, 1, 0, 1, 2, 0, 2], 3), ([0, 1, 2, 0, 2, 1, 2], 3), ([0, 1, 2], 3), ([0, 1, 2, 0, 1], 3), ([1, 2, 1, 2, 0], 3), ([1, 2, 1, 2, 1, 2], 3), ([1, 2, 0, 2, 0, 1], 3), ([0, 2, 0, 1], 3), ([2, 1, 2], 3), ([2, 0, 2, 0, 1, 2], 3), ([0, 2, 1, 0, 2], 3), ([1, 1, 1, 2], 3), ([0, 2, 2, 0, 1, 2], 3), ([0, 1, 0, 1, 2], 3), ([0, 1, 1, 2], 3), ([0, 2, 0], 3), ([0, 1, 2, 0, 1, 2], 3), ([0, 1, 2, 0, 1], 3), ([0, 1, 2, 0, 2, 0], 3), ([1, 1, 2, 2], 3), ([0, 1, 1, 2, 1], 3), ([1, 2, 0, 1, 2], 3), ([0, 2, 2, 1, 2], 3), ([0, 1, 0, 1], 3), ([0, 2, 2], 3), ([0, 2, 0, 2], 3), ([0, 1, 2, 0, 1, 2, 1, 2], 3), ([1, 0], 3), ([0, 0, 2, 0, 1, 2], 3), ([0, 1, 0, 1, 0, 1, 2], 3), ([0, 1, 0], 3), ([0, 2, 1, 2, 0], 3), ([0, 1, 1], 3), ([2, 2, 0, 1, 2], 3), ([0, 2, 0], 3), ([1, 1], 3), ([1, 1, 2], 3), ([0, 0, 2, 2], 3), ([0, 1, 2, 0, 2], 3), ([0, 1, 2, 0, 1], 3), ([1, 2], 3), ([0, 1, 2, 2], 3), ([1, 2, 2, 0, 1], 3), ([1, 0, 1, 2, 2], 3), ([1, 2, 0, 1, 0, 2], 3), ([1, 2, 0, 1, 2, 2], 3), ([0, 0, 1], 3), ([1, 2, 0, 0, 2], 3), ([0, 2, 1, 2], 3), ([2, 1, 0, 1, 2], 3), ([0, 0, 1, 1, 2], 3), ([1, 2, 0, 2], 3), ([0, 1, 0, 1, 2], 3), ([2, 0, 2], 3), ([0, 2, 0, 1], 3), ([1, 0, 1, 1, 2], 3), ([0, 1, 1, 2, 2], 3), ([1, 2, 0, 1, 2, 1], 3), ([1, 0, 2, 0, 1, 2], 3), ([0, 1, 1, 0, 1], 3), ([0, 0, 1, 2], 3), ([0, 1, 2, 1], 3), ([0, 0, 2], 3), ([0, 2, 2, 0, 1], 3), ([1, 0, 2], 3), ([1, 2], 3), ([0, 2, 0, 1, 2, 0, 2], 3), ([2, 0, 1, 2, 1, 2], 3), ([0, 1, 2, 2, 2], 3), ([1, 0, 0, 2], 3), ([2, 1, 2], 3), ([0, 1, 2], 3), ([0, 2, 0, 1, 2], 3), ([0, 1, 0, 2, 0], 3), ([1, 0, 1, 2], 3), ([1, 2, 1, 2], 3), ([2, 0, 1, 2, 1], 3), ([0, 2, 2, 1], 3), ([0, 0, 1, 0, 1, 2], 3), ([2, 1, 2, 0, 1, 2], 3), ([1, 0, 1, 2, 1, 2], 3), ([0, 2, 0, 0, 1, 2], 4), ([0, 1, 2, 2, 1], 4), ([0, 1, 0], 4), ([1, 2, 0, 1], 4), ([1, 1, 2, 0, 2], 4), ([1, 2], 4), ([2, 0, 1], 4), ([0, 1, 0, 1, 0], 4), ([0, 0, 0, 1], 4), ([1, 2, 0, 0, 1], 4), ([0, 1, 1, 1], 4), ([0, 2, 1, 2, 1], 4), ([0, 1], 4), ([0, 1, 2, 1], 4), ([0, 1, 2, 1, 1, 2], 4), ([1, 1, 2], 4), ([], 4), ([1, 0, 0, 1, 2], 4), ([1, 1], 4), ([0, 1, 0, 1, 1], 4), ([0, 1, 2, 1, 0, 1], 4), ([0, 1, 1], 4), ([0, 0, 1, 0, 1], 4), ([0, 2, 2, 2], 4), ([0, 1], 4), ([0, 1, 0, 0, 2], 4), ([0, 2, 0, 1, 2], 4), ([1, 2, 0, 1, 2, 0], 4), ([0, 0, 2, 1], 4), ([0, 1], 4), ([0, 2, 0, 1, 1], 4), ([2, 0, 1, 2], 4), ([1, 2, 1, 2, 0, 1], 4), ([1, 2, 1, 1], 4), ([1, 2, 0, 1, 2, 0, 1], 4), ([0, 2, 0, 2], 4), ([2, 0, 1, 2], 4), ([1, 2, 0, 1, 0, 1, 2], 4), ([0, 0, 1, 2, 0, 1], 4), ([0, 2, 1, 2], 4), ([0, 1, 2, 1, 2], 5), ([0, 0, 1, 2, 1, 2], 5), ([0, 0, 1, 0], 5), ([1, 2, 1, 0], 5), ([0, 2, 2], 5), ([2, 0, 1, 0, 1, 2], 5), ([2, 0, 1, 1, 2], 5), ([0, 1, 1, 2, 0, 1], 5), ([0, 1, 2, 0, 1, 2], 5), ([0, 2], 5), ([0, 1, 2, 0, 2], 5), ([0, 1, 0, 1, 2, 1, 2], 5), ([1, 0], 5), ([0, 2, 0, 2, 2], 5), ([1, 2, 1, 2, 0, 1, 2], 5), ([0, 2, 0, 0, 2], 5), ([0, 2, 0, 1, 2], 5), ([1, 0, 1, 2], 5), ([0, 1, 2, 0, 0, 1, 2], 5), ([0, 1, 2, 0, 1, 1], 5), ([2, 1, 1], 5), ([0, 0, 1], 5), ([1, 0], 5), ([1, 2, 2, 0], 5), ([0, 2, 0], 6), ([2, 0, 0, 1, 2], 6), ([0, 1, 2, 0, 2], 6), ([1, 2, 0], 6), ([0, 1, 2, 1, 2, 2], 6), ([0, 2, 0, 1, 2], 6), ([0, 1, 2, 0, 1, 0, 2], 6), ([0, 1, 2, 1, 0, 1, 2], 6), ([1, 2, 0], 6), ([1, 1, 0, 1], 7), ([1, 2, 2], 7), ([0, 2, 0, 2, 0, 1, 2], 7)]\n"
     ]
    }
   ],
   "source": [
    "from qiskit.visualization import plot_histogram\n",
    "\n",
    "backend = Aer.get_backend('aer_simulator')\n",
    "backend.shots = 512\n",
    "\n",
    "qc_res = create_qaoa_circuit(len(distance_matrix[0])**2, res.x)\n",
    "counts = backend.run(qc_res, seed_simulator=10).result().get_counts()\n",
    "counts_list = [(k, v) for k, v in counts.items()]\n",
    "counts_list.sort(key = lambda x: x[1])\n",
    "counts_list = [(binary_state_to_points_order([int(i) for i in x[0]]), x[1]) for x in counts_list]\n",
    "print(counts_list)\n",
    "#plot_histogram(counts)"
   ]
  }
 ],
 "metadata": {
  "kernelspec": {
   "display_name": "Python 3",
   "language": "python",
   "name": "python3"
  },
  "language_info": {
   "codemirror_mode": {
    "name": "ipython",
    "version": 3
   },
   "file_extension": ".py",
   "mimetype": "text/x-python",
   "name": "python",
   "nbconvert_exporter": "python",
   "pygments_lexer": "ipython3",
   "version": "3.8.10"
  },
  "vscode": {
   "interpreter": {
    "hash": "916dbcbb3f70747c44a77c7bcd40155683ae19c65e1c03b4aa3499c5328201f1"
   }
  }
 },
 "nbformat": 4,
 "nbformat_minor": 2
}
